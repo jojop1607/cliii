{
 "cells": [
  {
   "cell_type": "code",
   "execution_count": 1,
   "id": "5e62c560-efcc-4d68-9072-cefd23c800a4",
   "metadata": {},
   "outputs": [],
   "source": [
    "import numpy as np \n",
    "\n",
    "\n",
    "def objective_function(x): \n",
    "    return x ** 2 \n",
    "\n",
    "def initialize_population(size, lower_bound, upper_bound): \n",
    "    return np.random.uniform(lower_bound, upper_bound, size) \n",
    "\n",
    "def clone(antibodies, num_clones): \n",
    "    return np.repeat(antibodies, num_clones) \n",
    "\n",
    "def hypermutate(clones, mutation_rate): \n",
    "    noise = np.random.normal(0, mutation_rate, clones.shape) \n",
    "    return clones + noise \n",
    " \n",
    "def select_best(population, num_best): \n",
    "    fitness = np.array([objective_function(x) for x in population]) \n",
    "    sorted_indices = np.argsort(fitness) \n",
    "    return population[sorted_indices[:num_best]] \n",
    " \n",
    "def clonal_selection_algorithm(pop_size=10, generations=20, clone_factor=5, \n",
    "    mutation_rate=0.1, lower_bound=-10, upper_bound=10): \n",
    "    population = initialize_population(pop_size, lower_bound, upper_bound) \n",
    "    for gen in range(generations): \n",
    "        fitness = np.array([objective_function(x) for x in population]) \n",
    "        best = select_best(population, pop_size // 2) \n",
    "        clones = clone(best, clone_factor) \n",
    "        mutated_clones = hypermutate(clones, mutation_rate) \n",
    "        new_best = select_best(mutated_clones, pop_size) \n",
    "        population = new_best \n",
    "        best_solution = population[np.argmin([objective_function(x) for x in population])] \n",
    "        print(f\"Generation {gen+1}: Best Solution = {best_solution:.5f}, Fitness = {objective_function(best_solution):.5f}\") \n",
    " \n",
    "    return best_solution"
   ]
  },
  {
   "cell_type": "code",
   "execution_count": 2,
   "id": "e22d87c7-6633-4d3a-b514-2a8b2dd4b6f5",
   "metadata": {},
   "outputs": [
    {
     "name": "stdout",
     "output_type": "stream",
     "text": [
      "Generation 1: Best Solution = 3.72464, Fitness = 13.87292\n",
      "Generation 2: Best Solution = 3.58761, Fitness = 12.87091\n",
      "Generation 3: Best Solution = 3.47081, Fitness = 12.04650\n",
      "Generation 4: Best Solution = 3.29150, Fitness = 10.83398\n",
      "Generation 5: Best Solution = 3.19532, Fitness = 10.21010\n",
      "Generation 6: Best Solution = 3.04062, Fitness = 9.24535\n",
      "Generation 7: Best Solution = 2.85024, Fitness = 8.12388\n",
      "Generation 8: Best Solution = 2.74925, Fitness = 7.55840\n",
      "Generation 9: Best Solution = 2.43194, Fitness = 5.91433\n",
      "Generation 10: Best Solution = 2.26431, Fitness = 5.12710\n",
      "Generation 11: Best Solution = 2.04946, Fitness = 4.20027\n",
      "Generation 12: Best Solution = 1.84767, Fitness = 3.41389\n",
      "Generation 13: Best Solution = 1.78714, Fitness = 3.19386\n",
      "Generation 14: Best Solution = 1.68101, Fitness = 2.82579\n",
      "Generation 15: Best Solution = 1.47350, Fitness = 2.17119\n",
      "Generation 16: Best Solution = 1.41291, Fitness = 1.99632\n",
      "Generation 17: Best Solution = 1.25826, Fitness = 1.58322\n",
      "Generation 18: Best Solution = 1.00563, Fitness = 1.01129\n",
      "Generation 19: Best Solution = 0.85913, Fitness = 0.73810\n",
      "Generation 20: Best Solution = 0.77173, Fitness = 0.59557\n",
      "\n",
      "Final Best Solution: 0.77172958219129\n"
     ]
    }
   ],
   "source": [
    "best = clonal_selection_algorithm() \n",
    "print(\"\\nFinal Best Solution:\", best) "
   ]
  },
  {
   "cell_type": "code",
   "execution_count": null,
   "id": "d757bc8a-b512-4bbd-85c4-4bdbd38e07b7",
   "metadata": {},
   "outputs": [],
   "source": []
  }
 ],
 "metadata": {
  "kernelspec": {
   "display_name": "Python 3 (ipykernel)",
   "language": "python",
   "name": "python3"
  },
  "language_info": {
   "codemirror_mode": {
    "name": "ipython",
    "version": 3
   },
   "file_extension": ".py",
   "mimetype": "text/x-python",
   "name": "python",
   "nbconvert_exporter": "python",
   "pygments_lexer": "ipython3",
   "version": "3.11.1"
  }
 },
 "nbformat": 4,
 "nbformat_minor": 5
}
